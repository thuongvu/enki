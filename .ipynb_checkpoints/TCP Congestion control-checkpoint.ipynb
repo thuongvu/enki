{
 "cells": [
  {
   "cell_type": "code",
   "execution_count": 1,
   "metadata": {},
   "outputs": [
    {
     "ename": "SyntaxError",
     "evalue": "invalid syntax (<ipython-input-1-f1e122995b2a>, line 13)",
     "output_type": "error",
     "traceback": [
      "\u001b[0;36m  File \u001b[0;32m\"<ipython-input-1-f1e122995b2a>\"\u001b[0;36m, line \u001b[0;32m13\u001b[0m\n\u001b[0;31m    server_port = sys.argv[3] or\u001b[0m\n\u001b[0m                                 ^\u001b[0m\n\u001b[0;31mSyntaxError\u001b[0m\u001b[0;31m:\u001b[0m invalid syntax\n"
     ]
    }
   ],
   "source": [
    "import hashlib\n",
    "import signal\n",
    "import socket\n",
    "import sys\n",
    "\n",
    "sock = socket.socket(socket.AF_INET, socket.SOCK_DGRAM)\n",
    "\n",
    "address = '0.0.0.0'\n",
    "port = int(sys.argv[1]) or '8000'\n",
    "sock.bind((address, port))\n",
    "\n",
    "server_address = sys.argv[2] or '0.0.0.0'\n",
    "server_port = sys.argv[3] or '9000'\n",
    "\n",
    "def timeout_handler(signum, frame):\n",
    "    raise TimeoutError()\n",
    "\n",
    "def send(msg)\n",
    "    response = None\n",
    "    while response != 'ACK'.encode('utf-8'):\n",
    "        hashed_msg = hashlib.sha224(msg.encode('utf-8')).hexdigest()\n",
    "        sock.sendto(hashed_msg, (server_address, server_port))\n",
    "        print('sent: {}'.format(msg))\n",
    "        response, _ = sock.recvfrom(1024)\n",
    "        print('response: {}'.format(response.encode('utf-8')))\n",
    "\n",
    "while True:\n",
    "    msg = input('msg')\n",
    "    retry = True\n",
    "    while retry:\n",
    "        try:\n",
    "            signal.signal(signal.SIGALRM, timeout_handler)\n",
    "            signal.alarm(3)\n",
    "            send(msg)\n",
    "        except TimeoutError:\n",
    "            continue\n",
    "        retrying = False\n",
    "        signal.alarm(0)\n",
    "    \n"
   ]
  },
  {
   "cell_type": "markdown",
   "metadata": {},
   "source": []
  },
  {
   "cell_type": "code",
   "execution_count": 2,
   "metadata": {},
   "outputs": [
    {
     "ename": "ValueError",
     "evalue": "invalid literal for int() with base 10: '-f'",
     "output_type": "error",
     "traceback": [
      "\u001b[0;31m---------------------------------------------------------------------------\u001b[0m",
      "\u001b[0;31mValueError\u001b[0m                                Traceback (most recent call last)",
      "\u001b[0;32m<ipython-input-2-28ff6bb3cca6>\u001b[0m in \u001b[0;36m<module>\u001b[0;34m()\u001b[0m\n\u001b[1;32m      5\u001b[0m \u001b[0;34m\u001b[0m\u001b[0m\n\u001b[1;32m      6\u001b[0m \u001b[0maddress\u001b[0m \u001b[0;34m=\u001b[0m \u001b[0;34m'0.0.0.0'\u001b[0m\u001b[0;34m\u001b[0m\u001b[0m\n\u001b[0;32m----> 7\u001b[0;31m \u001b[0mport\u001b[0m \u001b[0;34m=\u001b[0m \u001b[0mint\u001b[0m\u001b[0;34m(\u001b[0m\u001b[0msys\u001b[0m\u001b[0;34m.\u001b[0m\u001b[0margv\u001b[0m\u001b[0;34m[\u001b[0m\u001b[0;36m1\u001b[0m\u001b[0;34m]\u001b[0m\u001b[0;34m)\u001b[0m \u001b[0;32mor\u001b[0m \u001b[0;36m8000\u001b[0m\u001b[0;34m\u001b[0m\u001b[0m\n\u001b[0m\u001b[1;32m      8\u001b[0m \u001b[0msock\u001b[0m\u001b[0;34m.\u001b[0m\u001b[0mbind\u001b[0m\u001b[0;34m(\u001b[0m\u001b[0;34m(\u001b[0m\u001b[0maddress\u001b[0m\u001b[0;34m,\u001b[0m \u001b[0mport\u001b[0m\u001b[0;34m)\u001b[0m\u001b[0;34m)\u001b[0m\u001b[0;34m\u001b[0m\u001b[0m\n\u001b[1;32m      9\u001b[0m \u001b[0;34m\u001b[0m\u001b[0m\n",
      "\u001b[0;31mValueError\u001b[0m: invalid literal for int() with base 10: '-f'"
     ]
    }
   ],
   "source": [
    "import random\n",
    "import socket\n",
    "import sys\n",
    "\n",
    "ACK = 'ACK'.encode('utf-8')\n",
    "\n",
    "sock = socket.socket(socket.AF_INET, socket.SOCK_DGRAM)\n",
    "\n",
    "address = '0.0.0.0'\n",
    "port = int(sys.argv[1]) or 9000\n",
    "sock.bind((address, port))\n",
    "\n",
    "drop_rate = float(sys.argv[1]) or 0.3\n",
    "\n",
    "while True:\n",
    "    msg, client_address = sock.recvfrom(1024)\n",
    "    decoded_msg = msg.decode('utf-8')\n",
    "    if random.random() < drop_rate:\n",
    "        print('Dropped datagram: {}'.format(decoded_msg))\n",
    "        continue\n",
    "    print('Received: {}'.format(decoded_msg))\n",
    "    sock.sendto(ACK, client_address)\n",
    "\n"
   ]
  },
  {
   "cell_type": "code",
   "execution_count": null,
   "metadata": {
    "collapsed": true
   },
   "outputs": [],
   "source": []
  }
 ],
 "metadata": {
  "kernelspec": {
   "display_name": "Python 3",
   "language": "python",
   "name": "python3"
  },
  "language_info": {
   "codemirror_mode": {
    "name": "ipython",
    "version": 3
   },
   "file_extension": ".py",
   "mimetype": "text/x-python",
   "name": "python",
   "nbconvert_exporter": "python",
   "pygments_lexer": "ipython3",
   "version": "3.5.1"
  }
 },
 "nbformat": 4,
 "nbformat_minor": 2
}
